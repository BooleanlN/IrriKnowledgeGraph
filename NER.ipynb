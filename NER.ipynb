{
 "cells": [
  {
   "cell_type": "code",
   "execution_count": 36,
   "metadata": {
    "pycharm": {
     "is_executing": false
    }
   },
   "outputs": [],
   "source": [
    "import json\n",
    "import random\n",
    "import os"
   ]
  },
  {
   "cell_type": "code",
   "execution_count": 41,
   "metadata": {},
   "outputs": [],
   "source": [
    "def to_data(destPath,originFilePath,M=5,valid=1,test=2,seed=1):\n",
    "    random.seed(seed)\n",
    "    with open(originFilePath,'r',encoding='utf8') as f:\n",
    "        origin_data = json.load(f)\n",
    "    print('数据项共{}条'.format(len(origin_data)))\n",
    "    entity_set = set()\n",
    "    train_file = open(os.path.join(destPath,'train.char.bmes'),'w',encoding='utf8')\n",
    "    valid_file = open(os.path.join(destPath,'valid.char.bmes'),'w',encoding='utf8')\n",
    "    test_file = open(os.path.join(destPath,'test.char.bmes'),'w',encoding='utf8')\n",
    "    train_count = 0\n",
    "    test_count = 0\n",
    "    valid_count = 0\n",
    "    for data in origin_data:\n",
    "        f = train_file\n",
    "        train_count += 1\n",
    "        if random.randint(0,M) == test:\n",
    "            f = test_file\n",
    "            train_count -= 1\n",
    "            test_count += 1\n",
    "        elif random.randint(0,M) == valid:\n",
    "            f = valid_file\n",
    "            train_count -= 1\n",
    "            valid_count += 1\n",
    "        entity_names = {}\n",
    "        entity_starts = {}\n",
    "        for entity in data['entities']:\n",
    "            name,label = entity.split('-')\n",
    "            entity_set.add(label)\n",
    "            entity_names[name] = label\n",
    "            entity_starts[name[0]] = name\n",
    "        index = 0\n",
    "        while index < len(data['text']):\n",
    "            if data['text'][index] in entity_starts:\n",
    "                start = data['text'][index]\n",
    "                end = index + len(entity_starts[start])\n",
    "                if entity_starts[start] == data['text'][index:end]:\n",
    "                    jndex = 0\n",
    "                    for ch in entity_starts[start]:\n",
    "                        if jndex == 0:   \n",
    "                            f.write('{} B-{}\\n'.format(ch,entity_names[entity_starts[start]]))\n",
    "                        elif jndex == end-index-1:\n",
    "                            f.write('{} E-{}\\n'.format(ch,entity_names[entity_starts[start]]))\n",
    "                        else:\n",
    "                            f.write('{} M-{}\\n'.format(ch,entity_names[entity_starts[start]]))\n",
    "                        jndex += 1\n",
    "                    index = end\n",
    "                    continue\n",
    "            f.write('{} O\\n'.format(data['text'][index]))\n",
    "            index += 1\n",
    "        f.write('\\n')\n",
    "    train_file.close()\n",
    "    test_file.close()\n",
    "    valid_file.close()\n",
    "    print('实体类型共{}项：'.format(len(entity_set)))\n",
    "    print(entity_set)\n",
    "    print('训练样本共{}项，测试样本共{}项，验证样本共{}项'.format(train_count,test_count,valid_count))"
   ]
  },
  {
   "cell_type": "code",
   "execution_count": 42,
   "metadata": {},
   "outputs": [
    {
     "name": "stdout",
     "output_type": "stream",
     "text": [
      "数据项共4919条\n",
      "实体类型共10项：\n",
      "{'PER', 'RIV', 'LAK', 'RES', 'ORG', 'HYD', 'DAM', 'OTH', 'LOC', 'TER'}\n",
      "训练样本共3431项，测试样本共824项，验证样本共664项\n"
     ]
    }
   ],
   "source": [
    "to_data('datasets','./datasets/bmes_train.json')"
   ]
  },
  {
   "cell_type": "code",
   "execution_count": null,
   "metadata": {},
   "outputs": [],
   "source": []
  }
 ],
 "metadata": {
  "kernelspec": {
   "display_name": "Python 3",
   "language": "python",
   "name": "python3"
  },
  "language_info": {
   "codemirror_mode": {
    "name": "ipython",
    "version": 3
   },
   "file_extension": ".py",
   "mimetype": "text/x-python",
   "name": "python",
   "nbconvert_exporter": "python",
   "pygments_lexer": "ipython3",
   "version": "3.7.7"
  }
 },
 "nbformat": 4,
 "nbformat_minor": 1
}
